{
 "cells": [
  {
   "cell_type": "markdown",
   "metadata": {},
   "source": [
    "# EuroMillion Game"
   ]
  },
  {
   "cell_type": "code",
   "execution_count": 1,
   "metadata": {},
   "outputs": [],
   "source": [
    "import pandas as pd\n",
    "from functions import *"
   ]
  },
  {
   "cell_type": "code",
   "execution_count": 2,
   "metadata": {},
   "outputs": [
    {
     "name": "stderr",
     "output_type": "stream",
     "text": [
      "/Users/miki/Projects/Web Scraping/functions.py:10: GuessedAtParserWarning: No parser was explicitly specified, so I'm using the best available HTML parser for this system (\"lxml\"). This usually isn't a problem, but if you run this code on another system, or in a different virtual environment, it may use a different parser and behave differently.\n",
      "\n",
      "The code that caused this warning is on line 10 of the file /Users/miki/Projects/Web Scraping/functions.py. To get rid of this warning, pass the additional argument 'features=\"lxml\"' to the BeautifulSoup constructor.\n",
      "\n",
      "  soup = BeautifulSoup(webpage_response.content)\n"
     ]
    }
   ],
   "source": [
    "date_list, balls = euromillions_web_scraping()\n",
    "df = pd.DataFrame(list(zip(date_list, balls)), \n",
    "               columns =['date', 'balls'])"
   ]
  },
  {
   "cell_type": "code",
   "execution_count": 3,
   "metadata": {
    "scrolled": true
   },
   "outputs": [
    {
     "data": {
      "text/html": [
       "<div>\n",
       "<style scoped>\n",
       "    .dataframe tbody tr th:only-of-type {\n",
       "        vertical-align: middle;\n",
       "    }\n",
       "\n",
       "    .dataframe tbody tr th {\n",
       "        vertical-align: top;\n",
       "    }\n",
       "\n",
       "    .dataframe thead th {\n",
       "        text-align: right;\n",
       "    }\n",
       "</style>\n",
       "<table border=\"1\" class=\"dataframe\">\n",
       "  <thead>\n",
       "    <tr style=\"text-align: right;\">\n",
       "      <th></th>\n",
       "      <th>date</th>\n",
       "      <th>balls</th>\n",
       "    </tr>\n",
       "  </thead>\n",
       "  <tbody>\n",
       "    <tr>\n",
       "      <th>0</th>\n",
       "      <td>Tuesday15th December 2020</td>\n",
       "      <td>[9, 13, 21, 29, 35, 1, 2]</td>\n",
       "    </tr>\n",
       "    <tr>\n",
       "      <th>1</th>\n",
       "      <td>Friday11th December 2020</td>\n",
       "      <td>[6, 9, 13, 24, 41, 3, 12]</td>\n",
       "    </tr>\n",
       "    <tr>\n",
       "      <th>2</th>\n",
       "      <td>Tuesday8th December 2020</td>\n",
       "      <td>[1, 4, 21, 24, 46, 2, 12]</td>\n",
       "    </tr>\n",
       "    <tr>\n",
       "      <th>3</th>\n",
       "      <td>Friday4th December 2020</td>\n",
       "      <td>[14, 20, 27, 34, 38, 1, 11]</td>\n",
       "    </tr>\n",
       "    <tr>\n",
       "      <th>4</th>\n",
       "      <td>Tuesday1st December 2020</td>\n",
       "      <td>[14, 20, 29, 47, 49, 4, 12]</td>\n",
       "    </tr>\n",
       "  </tbody>\n",
       "</table>\n",
       "</div>"
      ],
      "text/plain": [
       "                        date                        balls\n",
       "0  Tuesday15th December 2020    [9, 13, 21, 29, 35, 1, 2]\n",
       "1   Friday11th December 2020    [6, 9, 13, 24, 41, 3, 12]\n",
       "2   Tuesday8th December 2020    [1, 4, 21, 24, 46, 2, 12]\n",
       "3    Friday4th December 2020  [14, 20, 27, 34, 38, 1, 11]\n",
       "4   Tuesday1st December 2020  [14, 20, 29, 47, 49, 4, 12]"
      ]
     },
     "execution_count": 3,
     "metadata": {},
     "output_type": "execute_result"
    }
   ],
   "source": [
    "df.head()"
   ]
  },
  {
   "cell_type": "code",
   "execution_count": 4,
   "metadata": {},
   "outputs": [],
   "source": [
    "df['new_ball'] = df['balls'].apply(lambda x: x[:-2])\n",
    "df['new_lucky_star'] = df['balls'].apply(lambda x: x[-2:])"
   ]
  },
  {
   "cell_type": "code",
   "execution_count": 5,
   "metadata": {},
   "outputs": [],
   "source": [
    "def count_even_numbers(lst):\n",
    "    even = [n for n in lst if n%2 == 0]\n",
    "    return len(even)\n",
    "df['even_count'] = df['new_ball'].apply(count_even_numbers)"
   ]
  },
  {
   "cell_type": "code",
   "execution_count": 6,
   "metadata": {},
   "outputs": [],
   "source": [
    "import math\n",
    "import numpy as np\n",
    "# Prime number can only be divided by itself or by 1\n",
    "def is_prime(n):\n",
    "    if (n % 2 == 0 and n > 2) or n <=1: \n",
    "        return False\n",
    "    return all(n % i for i in range(3, int(math.sqrt(n)) + 1, 2))\n",
    "\n",
    "\n",
    "func = np.vectorize(is_prime)\n",
    "df['prime'] = df['new_ball'].apply(func)"
   ]
  },
  {
   "cell_type": "code",
   "execution_count": 7,
   "metadata": {},
   "outputs": [
    {
     "data": {
      "text/html": [
       "<div>\n",
       "<style scoped>\n",
       "    .dataframe tbody tr th:only-of-type {\n",
       "        vertical-align: middle;\n",
       "    }\n",
       "\n",
       "    .dataframe tbody tr th {\n",
       "        vertical-align: top;\n",
       "    }\n",
       "\n",
       "    .dataframe thead th {\n",
       "        text-align: right;\n",
       "    }\n",
       "</style>\n",
       "<table border=\"1\" class=\"dataframe\">\n",
       "  <thead>\n",
       "    <tr style=\"text-align: right;\">\n",
       "      <th></th>\n",
       "      <th>date</th>\n",
       "      <th>balls</th>\n",
       "      <th>new_ball</th>\n",
       "      <th>new_lucky_star</th>\n",
       "      <th>even_count</th>\n",
       "      <th>prime_count</th>\n",
       "    </tr>\n",
       "  </thead>\n",
       "  <tbody>\n",
       "    <tr>\n",
       "      <th>0</th>\n",
       "      <td>Tuesday15th December 2020</td>\n",
       "      <td>[9, 13, 21, 29, 35, 1, 2]</td>\n",
       "      <td>[9, 13, 21, 29, 35]</td>\n",
       "      <td>[1, 2]</td>\n",
       "      <td>0</td>\n",
       "      <td>2</td>\n",
       "    </tr>\n",
       "    <tr>\n",
       "      <th>1</th>\n",
       "      <td>Friday11th December 2020</td>\n",
       "      <td>[6, 9, 13, 24, 41, 3, 12]</td>\n",
       "      <td>[6, 9, 13, 24, 41]</td>\n",
       "      <td>[3, 12]</td>\n",
       "      <td>2</td>\n",
       "      <td>2</td>\n",
       "    </tr>\n",
       "    <tr>\n",
       "      <th>2</th>\n",
       "      <td>Tuesday8th December 2020</td>\n",
       "      <td>[1, 4, 21, 24, 46, 2, 12]</td>\n",
       "      <td>[1, 4, 21, 24, 46]</td>\n",
       "      <td>[2, 12]</td>\n",
       "      <td>3</td>\n",
       "      <td>0</td>\n",
       "    </tr>\n",
       "    <tr>\n",
       "      <th>3</th>\n",
       "      <td>Friday4th December 2020</td>\n",
       "      <td>[14, 20, 27, 34, 38, 1, 11]</td>\n",
       "      <td>[14, 20, 27, 34, 38]</td>\n",
       "      <td>[1, 11]</td>\n",
       "      <td>4</td>\n",
       "      <td>0</td>\n",
       "    </tr>\n",
       "    <tr>\n",
       "      <th>4</th>\n",
       "      <td>Tuesday1st December 2020</td>\n",
       "      <td>[14, 20, 29, 47, 49, 4, 12]</td>\n",
       "      <td>[14, 20, 29, 47, 49]</td>\n",
       "      <td>[4, 12]</td>\n",
       "      <td>2</td>\n",
       "      <td>2</td>\n",
       "    </tr>\n",
       "  </tbody>\n",
       "</table>\n",
       "</div>"
      ],
      "text/plain": [
       "                        date                        balls  \\\n",
       "0  Tuesday15th December 2020    [9, 13, 21, 29, 35, 1, 2]   \n",
       "1   Friday11th December 2020    [6, 9, 13, 24, 41, 3, 12]   \n",
       "2   Tuesday8th December 2020    [1, 4, 21, 24, 46, 2, 12]   \n",
       "3    Friday4th December 2020  [14, 20, 27, 34, 38, 1, 11]   \n",
       "4   Tuesday1st December 2020  [14, 20, 29, 47, 49, 4, 12]   \n",
       "\n",
       "               new_ball new_lucky_star  even_count  prime_count  \n",
       "0   [9, 13, 21, 29, 35]         [1, 2]           0            2  \n",
       "1    [6, 9, 13, 24, 41]        [3, 12]           2            2  \n",
       "2    [1, 4, 21, 24, 46]        [2, 12]           3            0  \n",
       "3  [14, 20, 27, 34, 38]        [1, 11]           4            0  \n",
       "4  [14, 20, 29, 47, 49]        [4, 12]           2            2  "
      ]
     },
     "execution_count": 7,
     "metadata": {},
     "output_type": "execute_result"
    }
   ],
   "source": [
    "df['prime_count'] = df['prime'].apply(lambda x: sum(x)) \n",
    "df.drop(columns = ['prime'], axis=1, inplace = True)\n",
    "df.head()"
   ]
  },
  {
   "cell_type": "code",
   "execution_count": 8,
   "metadata": {},
   "outputs": [],
   "source": [
    "def lucky_star_overlap_with_balls(df):\n",
    "    lucky_star = df[0]\n",
    "    \n",
    "    balls = df[1]\n",
    "    count = 0\n",
    "    for item in lucky_star:\n",
    "        if item in balls:\n",
    "            count +=1\n",
    "    return count\n",
    "df['lucky_star_in'] = df[['new_lucky_star', 'new_ball']].apply(lucky_star_overlap_with_balls, axis = 1)"
   ]
  },
  {
   "cell_type": "code",
   "execution_count": 9,
   "metadata": {},
   "outputs": [],
   "source": [
    "import datetime\n",
    "from dateutil.parser import parse\n",
    "# Transformation of date format\n",
    "df['adj_date'] = df['date'].apply(parse)"
   ]
  },
  {
   "cell_type": "code",
   "execution_count": 10,
   "metadata": {},
   "outputs": [
    {
     "data": {
      "text/html": [
       "<div>\n",
       "<style scoped>\n",
       "    .dataframe tbody tr th:only-of-type {\n",
       "        vertical-align: middle;\n",
       "    }\n",
       "\n",
       "    .dataframe tbody tr th {\n",
       "        vertical-align: top;\n",
       "    }\n",
       "\n",
       "    .dataframe thead th {\n",
       "        text-align: right;\n",
       "    }\n",
       "</style>\n",
       "<table border=\"1\" class=\"dataframe\">\n",
       "  <thead>\n",
       "    <tr style=\"text-align: right;\">\n",
       "      <th></th>\n",
       "      <th>date</th>\n",
       "      <th>balls</th>\n",
       "      <th>new_ball</th>\n",
       "      <th>new_lucky_star</th>\n",
       "      <th>even_count</th>\n",
       "      <th>prime_count</th>\n",
       "      <th>lucky_star_in</th>\n",
       "      <th>adj_date</th>\n",
       "      <th>1-9</th>\n",
       "      <th>10-19</th>\n",
       "      <th>20-29</th>\n",
       "      <th>30-39</th>\n",
       "      <th>40-50</th>\n",
       "    </tr>\n",
       "  </thead>\n",
       "  <tbody>\n",
       "    <tr>\n",
       "      <th>0</th>\n",
       "      <td>Tuesday15th December 2020</td>\n",
       "      <td>[9, 13, 21, 29, 35, 1, 2]</td>\n",
       "      <td>[9, 13, 21, 29, 35]</td>\n",
       "      <td>[1, 2]</td>\n",
       "      <td>0</td>\n",
       "      <td>2</td>\n",
       "      <td>0</td>\n",
       "      <td>2020-12-15</td>\n",
       "      <td>1</td>\n",
       "      <td>1</td>\n",
       "      <td>2</td>\n",
       "      <td>1</td>\n",
       "      <td>0</td>\n",
       "    </tr>\n",
       "    <tr>\n",
       "      <th>1</th>\n",
       "      <td>Friday11th December 2020</td>\n",
       "      <td>[6, 9, 13, 24, 41, 3, 12]</td>\n",
       "      <td>[6, 9, 13, 24, 41]</td>\n",
       "      <td>[3, 12]</td>\n",
       "      <td>2</td>\n",
       "      <td>2</td>\n",
       "      <td>0</td>\n",
       "      <td>2020-12-11</td>\n",
       "      <td>2</td>\n",
       "      <td>1</td>\n",
       "      <td>1</td>\n",
       "      <td>0</td>\n",
       "      <td>1</td>\n",
       "    </tr>\n",
       "    <tr>\n",
       "      <th>2</th>\n",
       "      <td>Tuesday8th December 2020</td>\n",
       "      <td>[1, 4, 21, 24, 46, 2, 12]</td>\n",
       "      <td>[1, 4, 21, 24, 46]</td>\n",
       "      <td>[2, 12]</td>\n",
       "      <td>3</td>\n",
       "      <td>0</td>\n",
       "      <td>0</td>\n",
       "      <td>2020-12-08</td>\n",
       "      <td>2</td>\n",
       "      <td>0</td>\n",
       "      <td>2</td>\n",
       "      <td>0</td>\n",
       "      <td>1</td>\n",
       "    </tr>\n",
       "    <tr>\n",
       "      <th>3</th>\n",
       "      <td>Friday4th December 2020</td>\n",
       "      <td>[14, 20, 27, 34, 38, 1, 11]</td>\n",
       "      <td>[14, 20, 27, 34, 38]</td>\n",
       "      <td>[1, 11]</td>\n",
       "      <td>4</td>\n",
       "      <td>0</td>\n",
       "      <td>0</td>\n",
       "      <td>2020-12-04</td>\n",
       "      <td>0</td>\n",
       "      <td>1</td>\n",
       "      <td>2</td>\n",
       "      <td>2</td>\n",
       "      <td>0</td>\n",
       "    </tr>\n",
       "    <tr>\n",
       "      <th>4</th>\n",
       "      <td>Tuesday1st December 2020</td>\n",
       "      <td>[14, 20, 29, 47, 49, 4, 12]</td>\n",
       "      <td>[14, 20, 29, 47, 49]</td>\n",
       "      <td>[4, 12]</td>\n",
       "      <td>2</td>\n",
       "      <td>2</td>\n",
       "      <td>0</td>\n",
       "      <td>2020-12-01</td>\n",
       "      <td>0</td>\n",
       "      <td>1</td>\n",
       "      <td>2</td>\n",
       "      <td>0</td>\n",
       "      <td>2</td>\n",
       "    </tr>\n",
       "  </tbody>\n",
       "</table>\n",
       "</div>"
      ],
      "text/plain": [
       "                        date                        balls  \\\n",
       "0  Tuesday15th December 2020    [9, 13, 21, 29, 35, 1, 2]   \n",
       "1   Friday11th December 2020    [6, 9, 13, 24, 41, 3, 12]   \n",
       "2   Tuesday8th December 2020    [1, 4, 21, 24, 46, 2, 12]   \n",
       "3    Friday4th December 2020  [14, 20, 27, 34, 38, 1, 11]   \n",
       "4   Tuesday1st December 2020  [14, 20, 29, 47, 49, 4, 12]   \n",
       "\n",
       "               new_ball new_lucky_star  even_count  prime_count  \\\n",
       "0   [9, 13, 21, 29, 35]         [1, 2]           0            2   \n",
       "1    [6, 9, 13, 24, 41]        [3, 12]           2            2   \n",
       "2    [1, 4, 21, 24, 46]        [2, 12]           3            0   \n",
       "3  [14, 20, 27, 34, 38]        [1, 11]           4            0   \n",
       "4  [14, 20, 29, 47, 49]        [4, 12]           2            2   \n",
       "\n",
       "   lucky_star_in   adj_date  1-9  10-19  20-29  30-39  40-50  \n",
       "0              0 2020-12-15    1      1      2      1      0  \n",
       "1              0 2020-12-11    2      1      1      0      1  \n",
       "2              0 2020-12-08    2      0      2      0      1  \n",
       "3              0 2020-12-04    0      1      2      2      0  \n",
       "4              0 2020-12-01    0      1      2      0      2  "
      ]
     },
     "execution_count": 10,
     "metadata": {},
     "output_type": "execute_result"
    }
   ],
   "source": [
    "\"\"\"\n",
    "1-10 (3)\n",
    "11-20 (2)\n",
    "21-30 (1)\n",
    "31-40 (0)\n",
    "41-50 (0)\n",
    "\"\"\"\n",
    "def grouping(lst, start, end):\n",
    "    group = [n for n in lst if n in range(start, end)]\n",
    "    return len(group)\n",
    "df['1-9'] = df['new_ball'].apply(grouping, args=(1,10))        \n",
    "df['10-19'] = df['new_ball'].apply(grouping, args=(10,20))\n",
    "df['20-29'] = df['new_ball'].apply(grouping, args=(20,30))\n",
    "df['30-39'] = df['new_ball'].apply(grouping, args=(30,40))\n",
    "df['40-50'] = df['new_ball'].apply(grouping, args=(40,51))\n",
    "df.head()"
   ]
  },
  {
   "cell_type": "code",
   "execution_count": 11,
   "metadata": {},
   "outputs": [
    {
     "data": {
      "text/plain": [
       "(array([0.01632653, 0.01428571, 0.0122449 , 0.0244898 , 0.03469388,\n",
       "        0.01836735, 0.01632653, 0.02040816, 0.0244898 , 0.02244898,\n",
       "        0.02857143, 0.0244898 , 0.0122449 , 0.02653061, 0.03469388,\n",
       "        0.02653061, 0.02244898, 0.01020408, 0.02857143, 0.02857143,\n",
       "        0.02653061, 0.0122449 , 0.0244898 , 0.02244898, 0.01836735,\n",
       "        0.01020408, 0.02653061, 0.02244898, 0.02040816, 0.0244898 ,\n",
       "        0.00816327, 0.0244898 , 0.01836735, 0.02040816, 0.01428571,\n",
       "        0.01428571, 0.0244898 , 0.02653061, 0.02040816, 0.01632653,\n",
       "        0.0244898 , 0.02040816, 0.01836735, 0.01632653, 0.02040816,\n",
       "        0.02857143, 0.01428571, 0.00408163, 0.0122449 , 0.01836735]),\n",
       " array([ 1.  ,  1.98,  2.96,  3.94,  4.92,  5.9 ,  6.88,  7.86,  8.84,\n",
       "         9.82, 10.8 , 11.78, 12.76, 13.74, 14.72, 15.7 , 16.68, 17.66,\n",
       "        18.64, 19.62, 20.6 , 21.58, 22.56, 23.54, 24.52, 25.5 , 26.48,\n",
       "        27.46, 28.44, 29.42, 30.4 , 31.38, 32.36, 33.34, 34.32, 35.3 ,\n",
       "        36.28, 37.26, 38.24, 39.22, 40.2 , 41.18, 42.16, 43.14, 44.12,\n",
       "        45.1 , 46.08, 47.06, 48.04, 49.02, 50.  ]),\n",
       " <BarContainer object of 50 artists>)"
      ]
     },
     "execution_count": 11,
     "metadata": {},
     "output_type": "execute_result"
    },
    {
     "data": {
      "image/png": "[encoded data removed]",
      "text/plain": [
       "<Figure size 432x288 with 1 Axes>"
      ]
     },
     "metadata": {
      "needs_background": "light"
     },
     "output_type": "display_data"
    }
   ],
   "source": [
    "# Histogram with density\n",
    "from matplotlib import pyplot as plt\n",
    "import seaborn as sns\n",
    "ball_list = df['new_ball'].to_list()\n",
    "data = sum(ball_list,[])\n",
    "plt.hist(data, 50, density = True) # 50 bins"
   ]
  },
  {
   "cell_type": "code",
   "execution_count": 12,
   "metadata": {},
   "outputs": [
    {
     "name": "stdout",
     "output_type": "stream",
     "text": [
      "[0.01035655]\n"
     ]
    },
    {
     "data": {
      "text/plain": [
       "(array([0.01632653, 0.01428571, 0.0122449 , 0.0244898 , 0.03469388,\n",
       "        0.01836735, 0.01632653, 0.02040816, 0.0244898 , 0.02244898,\n",
       "        0.02857143, 0.0244898 , 0.0122449 , 0.02653061, 0.03469388,\n",
       "        0.02653061, 0.02244898, 0.01020408, 0.02857143, 0.02857143,\n",
       "        0.02653061, 0.0122449 , 0.0244898 , 0.02244898, 0.01836735,\n",
       "        0.01020408, 0.02653061, 0.02244898, 0.02040816, 0.0244898 ,\n",
       "        0.00816327, 0.0244898 , 0.01836735, 0.02040816, 0.01428571,\n",
       "        0.01428571, 0.0244898 , 0.02653061, 0.02040816, 0.01632653,\n",
       "        0.0244898 , 0.02040816, 0.01836735, 0.01632653, 0.02040816,\n",
       "        0.02857143, 0.01428571, 0.00408163, 0.0122449 , 0.01836735]),\n",
       " array([ 1.  ,  1.98,  2.96,  3.94,  4.92,  5.9 ,  6.88,  7.86,  8.84,\n",
       "         9.82, 10.8 , 11.78, 12.76, 13.74, 14.72, 15.7 , 16.68, 17.66,\n",
       "        18.64, 19.62, 20.6 , 21.58, 22.56, 23.54, 24.52, 25.5 , 26.48,\n",
       "        27.46, 28.44, 29.42, 30.4 , 31.38, 32.36, 33.34, 34.32, 35.3 ,\n",
       "        36.28, 37.26, 38.24, 39.22, 40.2 , 41.18, 42.16, 43.14, 44.12,\n",
       "        45.1 , 46.08, 47.06, 48.04, 49.02, 50.  ]),\n",
       " <BarContainer object of 50 artists>)"
      ]
     },
     "execution_count": 12,
     "metadata": {},
     "output_type": "execute_result"
    },
    {
     "data": {
      "image/png": "[encoded data removed]",
      "text/plain": [
       "<Figure size 432x288 with 1 Axes>"
      ]
     },
     "metadata": {
      "needs_background": "light"
     },
     "output_type": "display_data"
    }
   ],
   "source": [
    "# Alternative to get probability density function\n",
    "import scipy\n",
    "kde = scipy.stats.gaussian_kde(data)\n",
    "print(kde.pdf(1))\n",
    "density, bins = np.histogram(data, bins = 50, density = True)\n",
    "plt.hist(bins[:-1], bins, weights=density)"
   ]
  },
  {
   "cell_type": "code",
   "execution_count": 13,
   "metadata": {},
   "outputs": [
    {
     "data": {
      "text/plain": [
       "{1: 0.016,\n",
       " 2: 0.014,\n",
       " 3: 0.012,\n",
       " 4: 0.024,\n",
       " 5: 0.034,\n",
       " 6: 0.018,\n",
       " 7: 0.016,\n",
       " 8: 0.02,\n",
       " 9: 0.024,\n",
       " 10: 0.022,\n",
       " 11: 0.028,\n",
       " 12: 0.024,\n",
       " 13: 0.012,\n",
       " 14: 0.026,\n",
       " 15: 0.034,\n",
       " 16: 0.026,\n",
       " 17: 0.022,\n",
       " 18: 0.01,\n",
       " 19: 0.028,\n",
       " 20: 0.028,\n",
       " 21: 0.026,\n",
       " 22: 0.012,\n",
       " 23: 0.024,\n",
       " 24: 0.022,\n",
       " 25: 0.018,\n",
       " 26: 0.01,\n",
       " 27: 0.026,\n",
       " 28: 0.022,\n",
       " 29: 0.02,\n",
       " 30: 0.024,\n",
       " 31: 0.008,\n",
       " 32: 0.024,\n",
       " 33: 0.018,\n",
       " 34: 0.02,\n",
       " 35: 0.014,\n",
       " 36: 0.014,\n",
       " 37: 0.024,\n",
       " 38: 0.026,\n",
       " 39: 0.02,\n",
       " 40: 0.016,\n",
       " 41: 0.024,\n",
       " 42: 0.02,\n",
       " 43: 0.018,\n",
       " 44: 0.016,\n",
       " 45: 0.02,\n",
       " 46: 0.028,\n",
       " 47: 0.014,\n",
       " 48: 0.004,\n",
       " 49: 0.012,\n",
       " 50: 0.018}"
      ]
     },
     "execution_count": 13,
     "metadata": {},
     "output_type": "execute_result"
    }
   ],
   "source": [
    "from collections import Counter\n",
    "counts = Counter(data)\n",
    "counts.values()\n",
    "total = sum(counts.values())\n",
    "sorted(counts.items(), key=lambda item: item[0])\n",
    "# Empirical Probability\n",
    "import collections\n",
    "probability_mass = {k:v/total for k,v in counts.items()}\n",
    "# sorted(probability_mass.items())\n",
    "sorted_dict = {n: probability_mass[n] for n in sorted(probability_mass)}\n",
    "sorted_dict"
   ]
  },
  {
   "cell_type": "code",
   "execution_count": 14,
   "metadata": {},
   "outputs": [
    {
     "data": {
      "text/plain": [
       "48"
      ]
     },
     "execution_count": 14,
     "metadata": {},
     "output_type": "execute_result"
    }
   ],
   "source": [
    "# print(counts.most_common(10))\n",
    "# counts.most_common()[-10:]\n",
    "lowest_prob_num = counts.most_common()[-1][0]\n",
    "lowest_prob_num"
   ]
  },
  {
   "cell_type": "code",
   "execution_count": 15,
   "metadata": {},
   "outputs": [],
   "source": [
    "total = 0\n",
    "for k, v in sorted_dict.items():\n",
    "    if k != lowest_prob_num:\n",
    "        total += v\n",
    "sorted_dict[lowest_prob_num] = 1 - total\n",
    "# probability = result.values()\n",
    "prob = np.array(list(sorted_dict.values()))"
   ]
  },
  {
   "cell_type": "code",
   "execution_count": 16,
   "metadata": {},
   "outputs": [],
   "source": [
    "# new_ball = np.random.choice(np.arange(1,51), 5, p=prob, replace = False)\n",
    "# new_ball"
   ]
  },
  {
   "cell_type": "code",
   "execution_count": 17,
   "metadata": {},
   "outputs": [
    {
     "data": {
      "text/html": [
       "<div>\n",
       "<style scoped>\n",
       "    .dataframe tbody tr th:only-of-type {\n",
       "        vertical-align: middle;\n",
       "    }\n",
       "\n",
       "    .dataframe tbody tr th {\n",
       "        vertical-align: top;\n",
       "    }\n",
       "\n",
       "    .dataframe thead th {\n",
       "        text-align: right;\n",
       "    }\n",
       "</style>\n",
       "<table border=\"1\" class=\"dataframe\">\n",
       "  <thead>\n",
       "    <tr style=\"text-align: right;\">\n",
       "      <th></th>\n",
       "      <th>even_count</th>\n",
       "      <th>prime_count</th>\n",
       "      <th>lucky_star_in</th>\n",
       "      <th>1-9</th>\n",
       "      <th>10-19</th>\n",
       "      <th>20-29</th>\n",
       "      <th>30-39</th>\n",
       "      <th>40-50</th>\n",
       "    </tr>\n",
       "  </thead>\n",
       "  <tbody>\n",
       "    <tr>\n",
       "      <th>count</th>\n",
       "      <td>100.000000</td>\n",
       "      <td>100.000000</td>\n",
       "      <td>100.000000</td>\n",
       "      <td>100.000000</td>\n",
       "      <td>100.000000</td>\n",
       "      <td>100.000000</td>\n",
       "      <td>100.000000</td>\n",
       "      <td>100.000000</td>\n",
       "    </tr>\n",
       "    <tr>\n",
       "      <th>mean</th>\n",
       "      <td>2.440000</td>\n",
       "      <td>1.490000</td>\n",
       "      <td>0.170000</td>\n",
       "      <td>0.890000</td>\n",
       "      <td>1.160000</td>\n",
       "      <td>1.040000</td>\n",
       "      <td>0.960000</td>\n",
       "      <td>0.950000</td>\n",
       "    </tr>\n",
       "    <tr>\n",
       "      <th>std</th>\n",
       "      <td>1.037869</td>\n",
       "      <td>0.969171</td>\n",
       "      <td>0.403395</td>\n",
       "      <td>0.863339</td>\n",
       "      <td>0.800505</td>\n",
       "      <td>0.839913</td>\n",
       "      <td>0.851855</td>\n",
       "      <td>0.821123</td>\n",
       "    </tr>\n",
       "    <tr>\n",
       "      <th>min</th>\n",
       "      <td>0.000000</td>\n",
       "      <td>0.000000</td>\n",
       "      <td>0.000000</td>\n",
       "      <td>0.000000</td>\n",
       "      <td>0.000000</td>\n",
       "      <td>0.000000</td>\n",
       "      <td>0.000000</td>\n",
       "      <td>0.000000</td>\n",
       "    </tr>\n",
       "    <tr>\n",
       "      <th>25%</th>\n",
       "      <td>2.000000</td>\n",
       "      <td>1.000000</td>\n",
       "      <td>0.000000</td>\n",
       "      <td>0.000000</td>\n",
       "      <td>1.000000</td>\n",
       "      <td>0.000000</td>\n",
       "      <td>0.000000</td>\n",
       "      <td>0.000000</td>\n",
       "    </tr>\n",
       "    <tr>\n",
       "      <th>50%</th>\n",
       "      <td>3.000000</td>\n",
       "      <td>2.000000</td>\n",
       "      <td>0.000000</td>\n",
       "      <td>1.000000</td>\n",
       "      <td>1.000000</td>\n",
       "      <td>1.000000</td>\n",
       "      <td>1.000000</td>\n",
       "      <td>1.000000</td>\n",
       "    </tr>\n",
       "    <tr>\n",
       "      <th>75%</th>\n",
       "      <td>3.000000</td>\n",
       "      <td>2.000000</td>\n",
       "      <td>0.000000</td>\n",
       "      <td>1.000000</td>\n",
       "      <td>2.000000</td>\n",
       "      <td>2.000000</td>\n",
       "      <td>2.000000</td>\n",
       "      <td>2.000000</td>\n",
       "    </tr>\n",
       "    <tr>\n",
       "      <th>max</th>\n",
       "      <td>4.000000</td>\n",
       "      <td>4.000000</td>\n",
       "      <td>2.000000</td>\n",
       "      <td>4.000000</td>\n",
       "      <td>3.000000</td>\n",
       "      <td>3.000000</td>\n",
       "      <td>3.000000</td>\n",
       "      <td>3.000000</td>\n",
       "    </tr>\n",
       "  </tbody>\n",
       "</table>\n",
       "</div>"
      ],
      "text/plain": [
       "       even_count  prime_count  lucky_star_in         1-9       10-19  \\\n",
       "count  100.000000   100.000000     100.000000  100.000000  100.000000   \n",
       "mean     2.440000     1.490000       0.170000    0.890000    1.160000   \n",
       "std      1.037869     0.969171       0.403395    0.863339    0.800505   \n",
       "min      0.000000     0.000000       0.000000    0.000000    0.000000   \n",
       "25%      2.000000     1.000000       0.000000    0.000000    1.000000   \n",
       "50%      3.000000     2.000000       0.000000    1.000000    1.000000   \n",
       "75%      3.000000     2.000000       0.000000    1.000000    2.000000   \n",
       "max      4.000000     4.000000       2.000000    4.000000    3.000000   \n",
       "\n",
       "            20-29       30-39       40-50  \n",
       "count  100.000000  100.000000  100.000000  \n",
       "mean     1.040000    0.960000    0.950000  \n",
       "std      0.839913    0.851855    0.821123  \n",
       "min      0.000000    0.000000    0.000000  \n",
       "25%      0.000000    0.000000    0.000000  \n",
       "50%      1.000000    1.000000    1.000000  \n",
       "75%      2.000000    2.000000    2.000000  \n",
       "max      3.000000    3.000000    3.000000  "
      ]
     },
     "execution_count": 17,
     "metadata": {},
     "output_type": "execute_result"
    }
   ],
   "source": [
    "df.describe()"
   ]
  },
  {
   "cell_type": "code",
   "execution_count": 18,
   "metadata": {},
   "outputs": [
    {
     "name": "stdout",
     "output_type": "stream",
     "text": [
      "1.5\n",
      "2.5\n"
     ]
    }
   ],
   "source": [
    "# There are 15 prime numbers within 50 p(n= 1 get one prime numbers) = 15/50 = 0.3\n",
    "print(5*0.3) # get 1.5 prime number ball(s), which is closer to the above statistics (2)\n",
    "\n",
    "# The probability to get an odd number is the same as getting an even number\n",
    "print(5*0.5) # get 2.5 even number balls, which is closer to the above statistics (3)"
   ]
  },
  {
   "cell_type": "code",
   "execution_count": 19,
   "metadata": {},
   "outputs": [],
   "source": [
    "prob_lucky_star_distribution = pd.Series(df.lucky_star_in.value_counts()/df.lucky_star_in.value_counts().sum()).to_numpy()"
   ]
  },
  {
   "cell_type": "code",
   "execution_count": 20,
   "metadata": {},
   "outputs": [
    {
     "data": {
      "text/plain": [
       "100"
      ]
     },
     "execution_count": 20,
     "metadata": {},
     "output_type": "execute_result"
    }
   ],
   "source": [
    "df.lucky_star_in.value_counts().sum()"
   ]
  },
  {
   "cell_type": "code",
   "execution_count": 21,
   "metadata": {},
   "outputs": [
    {
     "data": {
      "text/html": [
       "<div>\n",
       "<style scoped>\n",
       "    .dataframe tbody tr th:only-of-type {\n",
       "        vertical-align: middle;\n",
       "    }\n",
       "\n",
       "    .dataframe tbody tr th {\n",
       "        vertical-align: top;\n",
       "    }\n",
       "\n",
       "    .dataframe thead th {\n",
       "        text-align: right;\n",
       "    }\n",
       "</style>\n",
       "<table border=\"1\" class=\"dataframe\">\n",
       "  <thead>\n",
       "    <tr style=\"text-align: right;\">\n",
       "      <th></th>\n",
       "      <th>date</th>\n",
       "      <th>balls</th>\n",
       "      <th>new_ball</th>\n",
       "      <th>new_lucky_star</th>\n",
       "      <th>even_count</th>\n",
       "      <th>prime_count</th>\n",
       "      <th>lucky_star_in</th>\n",
       "      <th>adj_date</th>\n",
       "      <th>1-9</th>\n",
       "      <th>10-19</th>\n",
       "      <th>20-29</th>\n",
       "      <th>30-39</th>\n",
       "      <th>40-50</th>\n",
       "    </tr>\n",
       "  </thead>\n",
       "  <tbody>\n",
       "    <tr>\n",
       "      <th>0</th>\n",
       "      <td>Tuesday15th December 2020</td>\n",
       "      <td>[9, 13, 21, 29, 35, 1, 2]</td>\n",
       "      <td>[9, 13, 21, 29, 35]</td>\n",
       "      <td>[1, 2]</td>\n",
       "      <td>0</td>\n",
       "      <td>2</td>\n",
       "      <td>0</td>\n",
       "      <td>2020-12-15</td>\n",
       "      <td>1</td>\n",
       "      <td>1</td>\n",
       "      <td>2</td>\n",
       "      <td>1</td>\n",
       "      <td>0</td>\n",
       "    </tr>\n",
       "    <tr>\n",
       "      <th>1</th>\n",
       "      <td>Friday11th December 2020</td>\n",
       "      <td>[6, 9, 13, 24, 41, 3, 12]</td>\n",
       "      <td>[6, 9, 13, 24, 41]</td>\n",
       "      <td>[3, 12]</td>\n",
       "      <td>2</td>\n",
       "      <td>2</td>\n",
       "      <td>0</td>\n",
       "      <td>2020-12-11</td>\n",
       "      <td>2</td>\n",
       "      <td>1</td>\n",
       "      <td>1</td>\n",
       "      <td>0</td>\n",
       "      <td>1</td>\n",
       "    </tr>\n",
       "    <tr>\n",
       "      <th>2</th>\n",
       "      <td>Tuesday8th December 2020</td>\n",
       "      <td>[1, 4, 21, 24, 46, 2, 12]</td>\n",
       "      <td>[1, 4, 21, 24, 46]</td>\n",
       "      <td>[2, 12]</td>\n",
       "      <td>3</td>\n",
       "      <td>0</td>\n",
       "      <td>0</td>\n",
       "      <td>2020-12-08</td>\n",
       "      <td>2</td>\n",
       "      <td>0</td>\n",
       "      <td>2</td>\n",
       "      <td>0</td>\n",
       "      <td>1</td>\n",
       "    </tr>\n",
       "    <tr>\n",
       "      <th>3</th>\n",
       "      <td>Friday4th December 2020</td>\n",
       "      <td>[14, 20, 27, 34, 38, 1, 11]</td>\n",
       "      <td>[14, 20, 27, 34, 38]</td>\n",
       "      <td>[1, 11]</td>\n",
       "      <td>4</td>\n",
       "      <td>0</td>\n",
       "      <td>0</td>\n",
       "      <td>2020-12-04</td>\n",
       "      <td>0</td>\n",
       "      <td>1</td>\n",
       "      <td>2</td>\n",
       "      <td>2</td>\n",
       "      <td>0</td>\n",
       "    </tr>\n",
       "    <tr>\n",
       "      <th>4</th>\n",
       "      <td>Tuesday1st December 2020</td>\n",
       "      <td>[14, 20, 29, 47, 49, 4, 12]</td>\n",
       "      <td>[14, 20, 29, 47, 49]</td>\n",
       "      <td>[4, 12]</td>\n",
       "      <td>2</td>\n",
       "      <td>2</td>\n",
       "      <td>0</td>\n",
       "      <td>2020-12-01</td>\n",
       "      <td>0</td>\n",
       "      <td>1</td>\n",
       "      <td>2</td>\n",
       "      <td>0</td>\n",
       "      <td>2</td>\n",
       "    </tr>\n",
       "  </tbody>\n",
       "</table>\n",
       "</div>"
      ],
      "text/plain": [
       "                        date                        balls  \\\n",
       "0  Tuesday15th December 2020    [9, 13, 21, 29, 35, 1, 2]   \n",
       "1   Friday11th December 2020    [6, 9, 13, 24, 41, 3, 12]   \n",
       "2   Tuesday8th December 2020    [1, 4, 21, 24, 46, 2, 12]   \n",
       "3    Friday4th December 2020  [14, 20, 27, 34, 38, 1, 11]   \n",
       "4   Tuesday1st December 2020  [14, 20, 29, 47, 49, 4, 12]   \n",
       "\n",
       "               new_ball new_lucky_star  even_count  prime_count  \\\n",
       "0   [9, 13, 21, 29, 35]         [1, 2]           0            2   \n",
       "1    [6, 9, 13, 24, 41]        [3, 12]           2            2   \n",
       "2    [1, 4, 21, 24, 46]        [2, 12]           3            0   \n",
       "3  [14, 20, 27, 34, 38]        [1, 11]           4            0   \n",
       "4  [14, 20, 29, 47, 49]        [4, 12]           2            2   \n",
       "\n",
       "   lucky_star_in   adj_date  1-9  10-19  20-29  30-39  40-50  \n",
       "0              0 2020-12-15    1      1      2      1      0  \n",
       "1              0 2020-12-11    2      1      1      0      1  \n",
       "2              0 2020-12-08    2      0      2      0      1  \n",
       "3              0 2020-12-04    0      1      2      2      0  \n",
       "4              0 2020-12-01    0      1      2      0      2  "
      ]
     },
     "execution_count": 21,
     "metadata": {},
     "output_type": "execute_result"
    }
   ],
   "source": [
    "df.head()"
   ]
  },
  {
   "cell_type": "code",
   "execution_count": 22,
   "metadata": {},
   "outputs": [],
   "source": [
    "def same_last_digit(lst):\n",
    "    new_lst = [str(n)[-1] for n in lst]\n",
    "    if len(new_lst) == len(set(new_lst)):\n",
    "        return False\n",
    "    else:\n",
    "        return True"
   ]
  },
  {
   "cell_type": "code",
   "execution_count": 23,
   "metadata": {},
   "outputs": [
    {
     "data": {
      "text/plain": [
       "True     67\n",
       "False    33\n",
       "Name: same_last_digit, dtype: int64"
      ]
     },
     "execution_count": 23,
     "metadata": {},
     "output_type": "execute_result"
    }
   ],
   "source": [
    "df['same_last_digit'] = df['new_ball'].apply(same_last_digit)\n",
    "df.same_last_digit.value_counts()"
   ]
  },
  {
   "cell_type": "code",
   "execution_count": 24,
   "metadata": {},
   "outputs": [
    {
     "data": {
      "text/plain": [
       "0.6666666666666666"
      ]
     },
     "execution_count": 24,
     "metadata": {},
     "output_type": "execute_result"
    }
   ],
   "source": [
    "66/99 # By observation, ~ 66.67% of the draws, at least 2 draw numbers having the same last digit"
   ]
  },
  {
   "cell_type": "code",
   "execution_count": 25,
   "metadata": {},
   "outputs": [
    {
     "data": {
      "text/plain": [
       "0.6283203383110876"
      ]
     },
     "execution_count": 25,
     "metadata": {},
     "output_type": "execute_result"
    }
   ],
   "source": [
    "# Pigeonhole Principle\n",
    "q = (50/50) * (45/49) * (40/48) * (35/47) * (30/46) # Probability of having all the last digits being distinct\n",
    "1-q # The probability is quite close to the observation"
   ]
  },
  {
   "cell_type": "code",
   "execution_count": 26,
   "metadata": {},
   "outputs": [
    {
     "data": {
      "text/plain": [
       "True     94\n",
       "False     6\n",
       "Name: all_balls_same_last_digit, dtype: int64"
      ]
     },
     "execution_count": 26,
     "metadata": {},
     "output_type": "execute_result"
    }
   ],
   "source": [
    "# Same applies when we take all balls into account\n",
    "df['all_balls_same_last_digit'] = df['balls'].apply(same_last_digit)\n",
    "df.all_balls_same_last_digit.value_counts()"
   ]
  },
  {
   "cell_type": "code",
   "execution_count": 27,
   "metadata": {},
   "outputs": [
    {
     "data": {
      "text/plain": [
       "0.9393939393939394"
      ]
     },
     "execution_count": 27,
     "metadata": {},
     "output_type": "execute_result"
    }
   ],
   "source": [
    "93/99"
   ]
  },
  {
   "cell_type": "code",
   "execution_count": 28,
   "metadata": {},
   "outputs": [
    {
     "data": {
      "text/plain": [
       "0.906141499573507"
      ]
     },
     "execution_count": 28,
     "metadata": {},
     "output_type": "execute_result"
    }
   ],
   "source": [
    "# Pigeonhole Principle\n",
    "q = (50/50) * (45/49) * (40/48) * (35/47) * (30/46) * (25/45) * (20/44) # Probability of having all the last digits being distinct\n",
    "1-q # The probability is quite close to the observation"
   ]
  },
  {
   "cell_type": "markdown",
   "metadata": {},
   "source": [
    "# Conclusion: When you buy lottery, you should choose numbers such that at least two of them have the same last digit!"
   ]
  },
  {
   "cell_type": "code",
   "execution_count": 29,
   "metadata": {},
   "outputs": [],
   "source": [
    "# Get probability density for lucky star balls\n",
    "lucky_ball_list = df['new_lucky_star'].to_list()\n",
    "lucky_data = sum(lucky_ball_list,[])"
   ]
  },
  {
   "cell_type": "code",
   "execution_count": 30,
   "metadata": {},
   "outputs": [
    {
     "data": {
      "text/plain": [
       "{1: 0.08,\n",
       " 2: 0.1,\n",
       " 3: 0.09,\n",
       " 4: 0.085,\n",
       " 5: 0.07,\n",
       " 6: 0.105,\n",
       " 7: 0.08,\n",
       " 8: 0.085,\n",
       " 9: 0.08,\n",
       " 10: 0.065,\n",
       " 11: 0.07,\n",
       " 12: 0.09}"
      ]
     },
     "execution_count": 30,
     "metadata": {},
     "output_type": "execute_result"
    }
   ],
   "source": [
    "lucky_counts = Counter(lucky_data)\n",
    "lucky_counts.values()\n",
    "total = sum(lucky_counts.values())\n",
    "\n",
    "# Empirical Probability\n",
    "lucky_probability_mass = {k:v/total for k,v in lucky_counts.items()}\n",
    "# sorted(probability_mass.items())\n",
    "lucky_sorted_dict = {n: lucky_probability_mass[n] for n in sorted(lucky_probability_mass)}\n",
    "lucky_sorted_dict"
   ]
  },
  {
   "cell_type": "code",
   "execution_count": 31,
   "metadata": {},
   "outputs": [
    {
     "data": {
      "text/plain": [
       "10"
      ]
     },
     "execution_count": 31,
     "metadata": {},
     "output_type": "execute_result"
    }
   ],
   "source": [
    "lucky_lowest_prob_num = lucky_counts.most_common()[-1][0]\n",
    "lucky_lowest_prob_num"
   ]
  },
  {
   "cell_type": "code",
   "execution_count": 32,
   "metadata": {},
   "outputs": [],
   "source": [
    "total = 0\n",
    "for k, v in lucky_sorted_dict.items():\n",
    "    if k != lucky_lowest_prob_num:\n",
    "        total += v\n",
    "lucky_sorted_dict[lucky_lowest_prob_num] = 1 - total\n",
    "\n",
    "prob2 = np.array(list(lucky_sorted_dict.values()))"
   ]
  },
  {
   "cell_type": "code",
   "execution_count": 33,
   "metadata": {},
   "outputs": [],
   "source": [
    "# new_lucky_ball = np.random.choice(np.arange(1,13), 2, p=prob2, replace = False)\n",
    "# new_lucky_ball"
   ]
  },
  {
   "cell_type": "code",
   "execution_count": 34,
   "metadata": {},
   "outputs": [],
   "source": [
    "def count_prime_number(lst):\n",
    "    prime_list = [n for n in lst if is_prime(n)]\n",
    "    return len(prime_list)"
   ]
  },
  {
   "cell_type": "markdown",
   "metadata": {},
   "source": [
    "Based on the above observation, we can create our model now\n",
    "#1. at least two of them have the same last digit\n",
    "#2. Most of the time, no or at most one overlapping lucky star number with other balls\n",
    "#3. Even/ Prime number : 0 (min) & 4(max)"
   ]
  },
  {
   "cell_type": "code",
   "execution_count": 35,
   "metadata": {},
   "outputs": [
    {
     "name": "stdout",
     "output_type": "stream",
     "text": [
      "0\n"
     ]
    }
   ],
   "source": [
    "lucky_star = np.random.choice(np.arange(0,3), 1, p=prob_lucky_star_distribution, replace = False)\n",
    "repeat = int(lucky_star)\n",
    "print(repeat)\n",
    "new_ball = np.random.choice(np.arange(1,51), 5, p=prob, replace = False)\n",
    "new_lucky_ball = np.random.choice(np.arange(1,13), 2, p=prob2, replace = False)\n",
    "total_balls = [new_lucky_ball, new_ball]\n",
    "while not(same_last_digit(new_ball)) or (count_even_numbers(new_ball) > 3) or (count_prime_number(new_ball) > 3) or (lucky_star_overlap_with_balls(total_balls) != repeat):\n",
    "    new_ball = np.random.choice(np.arange(1,51), 5, p=prob, replace = False)\n",
    "    new_lucky_ball = np.random.choice(np.arange(1,13), 2, p=prob2, replace = False)\n",
    "    total_balls = [new_lucky_ball, new_ball]"
   ]
  },
  {
   "cell_type": "code",
   "execution_count": 36,
   "metadata": {},
   "outputs": [
    {
     "name": "stdout",
     "output_type": "stream",
     "text": [
      "[9, 23, 37, 43, 50]\n",
      "[4, 11]\n",
      "[array([11,  4]), array([37, 23, 43,  9, 50])]\n",
      "0\n"
     ]
    }
   ],
   "source": [
    "print(sorted(new_ball))\n",
    "print(sorted(new_lucky_ball))\n",
    "print(total_balls)\n",
    "print(lucky_star_overlap_with_balls(total_balls))"
   ]
  },
  {
   "cell_type": "code",
   "execution_count": 37,
   "metadata": {},
   "outputs": [
    {
     "name": "stdout",
     "output_type": "stream",
     "text": [
      "[20 18 27 42 40]\n",
      "[11  4]\n"
     ]
    }
   ],
   "source": [
    "# Auto-generated random numbers\n",
    "auto_gen_balls = np.random.choice(np.arange(1,51), 5, p=prob, replace = False)\n",
    "auto_gen_lucky_balls = np.random.choice(np.arange(1,13), 2, p=prob2, replace = False)\n",
    "print(auto_gen_balls)\n",
    "print(auto_gen_lucky_balls)"
   ]
  },
  {
   "cell_type": "code",
   "execution_count": 38,
   "metadata": {},
   "outputs": [
    {
     "name": "stdout",
     "output_type": "stream",
     "text": [
      "Tuesday15th December 2020 [9, 13, 21, 29, 35, 1, 2]\n"
     ]
    },
    {
     "name": "stderr",
     "output_type": "stream",
     "text": [
      "/Users/miki/Projects/Web Scraping/functions.py:10: GuessedAtParserWarning: No parser was explicitly specified, so I'm using the best available HTML parser for this system (\"lxml\"). This usually isn't a problem, but if you run this code on another system, or in a different virtual environment, it may use a different parser and behave differently.\n",
      "\n",
      "The code that caused this warning is on line 10 of the file /Users/miki/Projects/Web Scraping/functions.py. To get rid of this warning, pass the additional argument 'features=\"lxml\"' to the BeautifulSoup constructor.\n",
      "\n",
      "  soup = BeautifulSoup(webpage_response.content)\n"
     ]
    }
   ],
   "source": [
    "today_date_list, today_draw_balls = euromillions_web_scraping()\n",
    "print(today_date_list[0], today_draw_balls[0])"
   ]
  },
  {
   "cell_type": "code",
   "execution_count": 39,
   "metadata": {},
   "outputs": [
    {
     "data": {
      "text/plain": [
       "[1, 2]"
      ]
     },
     "execution_count": 39,
     "metadata": {},
     "output_type": "execute_result"
    }
   ],
   "source": [
    "today_draw_balls[0][:-2]\n",
    "today_draw_balls[0][-2:]"
   ]
  },
  {
   "cell_type": "code",
   "execution_count": 40,
   "metadata": {},
   "outputs": [],
   "source": [
    "lucky_draw = today_draw_balls[0][:-2]\n",
    "lucky_star_draw = today_draw_balls[0][-2:]\n",
    "\n",
    "def euromillions_checker(draw_list, draw_star_list, guess_list, guess_star_list):\n",
    "    ball_count = 0\n",
    "    lucky_count = 0\n",
    "    for n in guess_list:\n",
    "        if n in draw_list:\n",
    "            ball_count += 1\n",
    "    for m in guess_star_list:\n",
    "        if m in draw_star_list:\n",
    "            lucky_count += 1\n",
    "    return ball_count, lucky_count"
   ]
  },
  {
   "cell_type": "code",
   "execution_count": 41,
   "metadata": {},
   "outputs": [
    {
     "name": "stdout",
     "output_type": "stream",
     "text": [
      "Tuesday15th December 2020\n",
      "Lucky Draw result:\n",
      "[9, 13, 21, 29, 35]\n",
      "[1, 2]\n",
      "Predicted Model: \n",
      "[9, 23, 37, 43, 50]\n",
      "[4, 11]\n",
      "(1, 0)\n",
      "0.14285714285714285\n",
      "Random Walk Model: \n",
      "[18, 20, 27, 40, 42]\n",
      "[4, 11]\n",
      "(0, 0)\n",
      "0.0\n"
     ]
    }
   ],
   "source": [
    "base = 7 # total number of drawn balls \n",
    "print(today_date_list[0])\n",
    "print('Lucky Draw result:')\n",
    "print(lucky_draw, lucky_star_draw, sep = '\\n')\n",
    "print('Predicted Model: ')\n",
    "print(sorted(new_ball), sorted(new_lucky_ball), sep = '\\n')\n",
    "check1 = euromillions_checker(lucky_draw, lucky_star_draw, new_ball, new_lucky_ball)\n",
    "print(check1)\n",
    "print(sum(check1)/base)\n",
    "print('Random Walk Model: ')\n",
    "print(sorted(auto_gen_balls), sorted(auto_gen_lucky_balls), sep = '\\n')\n",
    "check2 = euromillions_checker(lucky_draw, lucky_star_draw, auto_gen_balls, auto_gen_lucky_balls)\n",
    "print(check2)\n",
    "print(sum(check2)/base)"
   ]
  }
 ],
 "metadata": {
  "kernelspec": {
   "display_name": "Python 3",
   "language": "python",
   "name": "python3"
  },
  "language_info": {
   "codemirror_mode": {
    "name": "ipython",
    "version": 3
   },
   "file_extension": ".py",
   "mimetype": "text/x-python",
   "name": "python",
   "nbconvert_exporter": "python",
   "pygments_lexer": "ipython3",
   "version": "3.7.3"
  }
 },
 "nbformat": 4,
 "nbformat_minor": 4
}
